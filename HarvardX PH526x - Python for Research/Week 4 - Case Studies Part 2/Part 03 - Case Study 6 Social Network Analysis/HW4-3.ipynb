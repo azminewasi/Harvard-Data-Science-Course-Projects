{
 "cells": [
  {
   "cell_type": "markdown",
   "metadata": {},
   "source": [
    "# Using Python for Research Homework: Week 4, Case Study 3\n",
    "\n",
    "Homophily is a property of networks.  Homophily occurs when nodes that are neighbors in a network also share a characteristic more often than nodes that are not network neighbors.  In this case study, we will investigate homophily of several characteristics of individuals connected in social networks in rural India."
   ]
  },
  {
   "cell_type": "markdown",
   "metadata": {},
   "source": [
    "### Exercise 1\n",
    "In Exercise 1, we will calculate the chance homophily for an arbitrary characteristic. Homophily is the proportion of edges in the network whose constituent nodes share that characteristic.\n",
    "\n",
    "How much homophily do we expect by chance? If characteristics are distributed completely randomly, the probability that two nodes \\(x\\) and \\(y\\) share characteristic \\(a\\) is the probability both nodes have characteristic \\(a\\) , which is the marginal probability of \\(a\\) squared. The total probability that nodes \\(x\\) and \\(y\\) share their characteristic is therefore the sum of the square of the marginal probabilities of each characteristic in the network.\n",
    "\n",
    "<strong>Instructions</strong>\n",
    "<ul><li>Create a function <code>marginal_prob</code> that takes a dictionary <code>chars</code> with personal IDs as keys and characteristics as values; it should return a dictionary with characteristics as keys and their marginal probability (frequency of occurence of a characteristic divided by the sum of frequencies of each characteristic) as values.</li>\n",
    "<li>Create a function <code>chance_homophily(chars)</code> that takes a dictionary <code>chars</code> defined as above and computes the chance homophily (homophily due to chance alone) for that characteristic.</li>\n",
    "<li>A sample of three peoples' favorite colors is given in <code>favorite_colors</code>. Use your function to compute the chance homophily in this group, and store it as <code>color_homophily</code>.</li>\n",
    "<li>Print <code>color_homophily</code>.</li></ul>"
   ]
  },
  {
   "cell_type": "code",
   "execution_count": 2,
   "metadata": {},
   "outputs": [
    {
     "output_type": "stream",
     "name": "stdout",
     "text": [
      "0.5555555555555556\n"
     ]
    }
   ],
   "source": [
    "from collections import Counter\n",
    "import numpy as np\n",
    "\n",
    "def marginal_prob(chars):\n",
    "    characteristics=list(chars.values())\n",
    "    ctr = Counter(characteristics)\n",
    "    characteristics_values=list(ctr.values())\n",
    "    result={}\n",
    "    for characteristic in ctr:\n",
    "        result[characteristic]=ctr[characteristic]/np.sum(characteristics_values)\n",
    "    return result\n",
    "        \n",
    "def chance_homophily(chars):\n",
    "    marginal_p=marginal_prob(chars)\n",
    "    mP_values=np.array(list(marginal_p.values()))\n",
    "    mP_values=np.square(mP_values)\n",
    "    return np.sum(mP_values)\n",
    "\n",
    "\n",
    "favorite_colors = {\n",
    "    \"ankit\":  \"red\",\n",
    "    \"xiaoyu\": \"blue\",\n",
    "    \"mary\":   \"blue\"\n",
    "}\n",
    "\n",
    "color_homophily = chance_homophily(favorite_colors)\n",
    "print(color_homophily)"
   ]
  },
  {
   "cell_type": "markdown",
   "metadata": {},
   "source": [
    "### Exercise 2\n",
    "\n",
    "In the remaining exercises, we will calculate actual homophily in these village and compare the obtained values to those obtained by chance. In this exercise, we subset the data into individual villages and store them.\n",
    "\n",
    "#### Instructions \n",
    "\n",
    "- `individual_characteristics.dta` contains several characteristics for each individual in the dataset such as age, religion, and caste. Use the `pandas` library to read in and store these characteristics as a dataframe called `df`.\n",
    "- Store separate datasets for individuals belonging to Villages 1 and 2 as `df1` and `df2`, respectively.\n",
    "- Note that some attributes may be missing for some individuals. In this case study, we will ignore rows of data where some column information is missing.\n",
    "- Use the head method to display the first few entries of `df1`."
   ]
  },
  {
   "cell_type": "code",
   "execution_count": 3,
   "metadata": {},
   "outputs": [
    {
     "output_type": "stream",
     "name": "stdout",
     "text": [
      "<bound method NDFrame.head of        village  adjmatrix_key      pid   hhid  resp_id  resp_gend  \\\n0            1              5   100201   1002        1          1   \n1            1              6   100202   1002        2          2   \n2            1             23   100601   1006        1          1   \n3            1             24   100602   1006        2          2   \n4            1             27   100701   1007        1          1   \n...        ...            ...      ...    ...      ...        ...   \n16979       77            692  7715202  77152        2          2   \n16980       77            699  7715401  77154        1          1   \n16981       77            700  7715402  77154        2          2   \n16982       77            703  7715501  77155        1          1   \n16983       77            704  7715502  77155        2          2   \n\n                       resp_status  age  religion            caste  ...  \\\n0                Head of Household   38  HINDUISM              OBC  ...   \n1      Spouse of Head of Household   27  HINDUISM              OBC  ...   \n2                Head of Household   29  HINDUISM              OBC  ...   \n3      Spouse of Head of Household   24  HINDUISM              OBC  ...   \n4                Head of Household   58  HINDUISM              OBC  ...   \n...                            ...  ...       ...              ...  ...   \n16979  Spouse of Head of Household   40  HINDUISM  SCHEDULED CASTE  ...   \n16980            Head of Household   35  HINDUISM  SCHEDULED CASTE  ...   \n16981  Spouse of Head of Household   32  HINDUISM  SCHEDULED CASTE  ...   \n16982            Head of Household   30  HINDUISM  SCHEDULED CASTE  ...   \n16983  Spouse of Head of Household   28  HINDUISM  SCHEDULED CASTE  ...   \n\n            privategovt work_outside work_outside_freq shgparticipate shg_no  \\\n0      PRIVATE BUSINESS          Yes               0.0             No    NaN   \n1                   NaN          NaN               NaN             No    NaN   \n2            OTHER LAND           No               NaN             No    NaN   \n3      PRIVATE BUSINESS           No               NaN            Yes    1.0   \n4            OTHER LAND           No               NaN             No    NaN   \n...                 ...          ...               ...            ...    ...   \n16979               NaN          NaN               NaN             No    NaN   \n16980         LAND LORD          Yes               0.0             No    NaN   \n16981               NaN          NaN               NaN             No    NaN   \n16982         LAND LORD           No               NaN             No    NaN   \n16983         LAND LORD          Yes               0.0             No    NaN   \n\n      savings savings_no electioncard rationcard rationcard_colour  \n0          No        NaN          Yes        Yes             GREEN  \n1          No        NaN          Yes        Yes             GREEN  \n2          No        NaN          Yes        Yes             GREEN  \n3         Yes        1.0          Yes         No               NaN  \n4          No        NaN          Yes        Yes             GREEN  \n...       ...        ...          ...        ...               ...  \n16979      No        NaN          Yes        Yes             GREEN  \n16980      No        NaN          Yes        Yes            YELLOW  \n16981      No        NaN          Yes        Yes             GREEN  \n16982      No        NaN          Yes        Yes             GREEN  \n16983      No        NaN          Yes        Yes             GREEN  \n\n[16984 rows x 48 columns]>\n"
     ]
    }
   ],
   "source": [
    "import pandas as pd\n",
    "\n",
    "df  = pd.read_csv(\"https://courses.edx.org/asset-v1:HarvardX+PH526x+2T2019+type@asset+block@individual_characteristics.csv\", low_memory=False, index_col=0)\n",
    "print(df.head)\n",
    "\n",
    "# Enter code here!"
   ]
  },
  {
   "cell_type": "code",
   "execution_count": 4,
   "metadata": {},
   "outputs": [
    {
     "output_type": "stream",
     "name": "stdout",
     "text": [
      "<class 'pandas.core.frame.DataFrame'>\nInt64Index: 16984 entries, 0 to 16983\nData columns (total 48 columns):\n #   Column             Non-Null Count  Dtype  \n---  ------             --------------  -----  \n 0   village            16984 non-null  int64  \n 1   adjmatrix_key      16984 non-null  int64  \n 2   pid                16984 non-null  int64  \n 3   hhid               16984 non-null  int64  \n 4   resp_id            16984 non-null  int64  \n 5   resp_gend          16984 non-null  int64  \n 6   resp_status        16984 non-null  object \n 7   age                16984 non-null  int64  \n 8   religion           16983 non-null  object \n 9   caste              16951 non-null  object \n 10  subcaste           16984 non-null  object \n 11  mothertongue       16962 non-null  object \n 12  speakother         16984 non-null  object \n 13  kannada            16984 non-null  object \n 14  tamil              16984 non-null  object \n 15  telugu             16984 non-null  object \n 16  hindi              16984 non-null  object \n 17  urdu               16984 non-null  object \n 18  english            16984 non-null  object \n 19  otherlang          30 non-null     object \n 20  educ               16984 non-null  object \n 21  villagenative      16984 non-null  object \n 22  native_name        7495 non-null   object \n 23  native_type        7475 non-null   object \n 24  native_taluk       7258 non-null   object \n 25  native_district    7494 non-null   object \n 26  res_time_yrs       7432 non-null   object \n 27  res_time_mths      3181 non-null   float64\n 28  movereason         7399 non-null   object \n 29  movecontact        581 non-null    object \n 30  movecontact_res    317 non-null    object \n 31  movecontact_hhid   249 non-null    float64\n 32  movecontact_pid    249 non-null    float64\n 33  movecontact_name   249 non-null    object \n 34  workflag           16983 non-null  object \n 35  work_freq          10691 non-null  float64\n 36  work_freq_type     10609 non-null  object \n 37  occupation         10687 non-null  object \n 38  privategovt        10633 non-null  object \n 39  work_outside       10695 non-null  object \n 40  work_outside_freq  3623 non-null   object \n 41  shgparticipate     16983 non-null  object \n 42  shg_no             3572 non-null   object \n 43  savings            16984 non-null  object \n 44  savings_no         6681 non-null   float64\n 45  electioncard       16983 non-null  object \n 46  rationcard         16983 non-null  object \n 47  rationcard_colour  14270 non-null  object \ndtypes: float64(5), int64(7), object(36)\nmemory usage: 6.3+ MB\n"
     ]
    }
   ],
   "source": [
    "df.info()"
   ]
  },
  {
   "cell_type": "code",
   "execution_count": 5,
   "metadata": {},
   "outputs": [],
   "source": [
    "df1 = df[df['village']==1]\n",
    "df2 = df[df['village']==2]"
   ]
  },
  {
   "cell_type": "code",
   "execution_count": 6,
   "metadata": {},
   "outputs": [
    {
     "output_type": "stream",
     "name": "stdout",
     "text": [
      "<bound method NDFrame.head of      village  adjmatrix_key     pid  hhid  resp_id  resp_gend  \\\n0          1              5  100201  1002        1          1   \n1          1              6  100202  1002        2          2   \n2          1             23  100601  1006        1          1   \n3          1             24  100602  1006        2          2   \n4          1             27  100701  1007        1          1   \n..       ...            ...     ...   ...      ...        ...   \n198        1            791  117202  1172        2          2   \n199        1            792  117203  1172        3          2   \n200        1            795  117301  1173        1          1   \n201        1            802  117403  1174        3          2   \n202        1            803  117404  1174        4          1   \n\n                     resp_status  age  religion            caste  ...  \\\n0              Head of Household   38  HINDUISM              OBC  ...   \n1    Spouse of Head of Household   27  HINDUISM              OBC  ...   \n2              Head of Household   29  HINDUISM              OBC  ...   \n3    Spouse of Head of Household   24  HINDUISM              OBC  ...   \n4              Head of Household   58  HINDUISM              OBC  ...   \n..                           ...  ...       ...              ...  ...   \n198  Spouse of Head of Household   62  HINDUISM              OBC  ...   \n199                        Other   30  HINDUISM              OBC  ...   \n200            Head of Household   75  HINDUISM              OBC  ...   \n201                        Other   26  HINDUISM  SCHEDULED CASTE  ...   \n202                        Other   18  HINDUISM  SCHEDULED CASTE  ...   \n\n          privategovt work_outside work_outside_freq shgparticipate shg_no  \\\n0    PRIVATE BUSINESS          Yes               0.0             No    NaN   \n1                 NaN          NaN               NaN             No    NaN   \n2          OTHER LAND           No               NaN             No    NaN   \n3    PRIVATE BUSINESS           No               NaN            Yes    1.0   \n4          OTHER LAND           No               NaN             No    NaN   \n..                ...          ...               ...            ...    ...   \n198      IN LAND LORD           No               NaN             No    NaN   \n199         LAND LORD           No               NaN             No    NaN   \n200               NaN          NaN               NaN             No    NaN   \n201  PRIVATE BUSINESS           No               NaN             No    NaN   \n202  PRIVATE BUSINESS          Yes               2.0             No    NaN   \n\n    savings savings_no electioncard rationcard rationcard_colour  \n0        No        NaN          Yes        Yes             GREEN  \n1        No        NaN          Yes        Yes             GREEN  \n2        No        NaN          Yes        Yes             GREEN  \n3       Yes        1.0          Yes         No               NaN  \n4        No        NaN          Yes        Yes             GREEN  \n..      ...        ...          ...        ...               ...  \n198      No        NaN          Yes        Yes             GREEN  \n199      No        NaN          Yes        Yes            YELLOW  \n200      No        NaN          Yes        Yes               APL  \n201      No        NaN           No         No               NaN  \n202      No        NaN          Yes         No               NaN  \n\n[203 rows x 48 columns]>\n"
     ]
    }
   ],
   "source": [
    "print(df1.head)"
   ]
  },
  {
   "source": [
    "How many people had a resp_gender value of 1 in the first 5 entries of df1?"
   ],
   "cell_type": "markdown",
   "metadata": {}
  },
  {
   "cell_type": "code",
   "execution_count": 7,
   "metadata": {},
   "outputs": [
    {
     "output_type": "stream",
     "name": "stdout",
     "text": [
      "0    1\n1    2\n2    1\n3    2\n4    1\nName: resp_gend, dtype: int64\n"
     ]
    }
   ],
   "source": [
    "print(df1[\"resp_gend\"].iloc[0:5])"
   ]
  },
  {
   "cell_type": "markdown",
   "metadata": {},
   "source": [
    "### Exercise 3 \n",
    "\n",
    "In this exercise, we define a few dictionaries that enable us to look up the sex, caste, and religion of members of each village by personal ID. For Villages 1 and 2, their personal IDs are stored as `pid`.\n",
    "\n",
    "#### Instructions \n",
    "- Define dictionaries with personal IDs as keys and a given covariate for that individual as values. Complete this for the sex, caste, and religion covariates, for Villages 1 and 2.\n",
    "- For Village 1, store these dictionaries into variables named `sex1`, `caste1`, and `religion1`.\n",
    "- For Village 2, store these dictionaries into variables named `sex2`, `caste2`, and `religion2`."
   ]
  },
  {
   "cell_type": "code",
   "execution_count": 8,
   "metadata": {},
   "outputs": [],
   "source": [
    "sex1      = pd.Series(df1.resp_gend.values,index=df1.pid).to_dict()\n",
    "caste1    = pd.Series(df1.caste.values,index=df1.pid).to_dict()\n",
    "religion1 = pd.Series(df1.religion.values,index=df1.pid).to_dict()\n",
    "\n",
    "sex2      = pd.Series(df2.resp_gend.values,index=df2.pid).to_dict()\n",
    "caste2    = pd.Series(df2.caste.values,index=df2.pid).to_dict()\n",
    "religion2 = pd.Series(df2.religion.values,index=df2.pid).to_dict()\n"
   ]
  },
  {
   "source": [
    "What is the caste value for personal ID 202802 in village 2?"
   ],
   "cell_type": "markdown",
   "metadata": {}
  },
  {
   "cell_type": "code",
   "execution_count": 9,
   "metadata": {},
   "outputs": [
    {
     "output_type": "stream",
     "name": "stdout",
     "text": [
      "OBC\n"
     ]
    }
   ],
   "source": [
    "print(caste2[202802])"
   ]
  },
  {
   "cell_type": "markdown",
   "metadata": {},
   "source": [
    "### Exercise 4\n",
    "\n",
    "In this exercise, we will print the chance homophily of several characteristics of Villages 1 and 2. \n",
    "\n",
    "#### Instructions \n",
    "-  Use `chance_homophily` to compute the chance homophily for sex, caste, and religion In Villages 1 and 2. Is the chance homophily for any attribute very high for either village?"
   ]
  },
  {
   "cell_type": "code",
   "execution_count": 10,
   "metadata": {},
   "outputs": [
    {
     "output_type": "stream",
     "name": "stdout",
     "text": [
      "Village 01:  Sex > 0.5027299861680701 Caste > 0.6741488509791551 Religion > 0.9804896988521925\nVillage 02:  Sex > 0.5005945303210464 Caste > 0.425368244800893 Religion > 1.0\n"
     ]
    }
   ],
   "source": [
    "chance_homophily_sex1=chance_homophily(sex1)\n",
    "chance_homophily_sex2=chance_homophily(sex2)\n",
    "\n",
    "chance_homophily_caste1=chance_homophily(caste1)\n",
    "chance_homophily_caste2=chance_homophily(caste2)\n",
    "\n",
    "chance_homophily_religion1=chance_homophily(religion1)\n",
    "chance_homophily_religion2=chance_homophily(religion2)\n",
    "\n",
    "print(\"Village 01: \",\"Sex >\",chance_homophily_sex1,\"Caste >\",chance_homophily_caste1,\"Religion >\",chance_homophily_religion1)\n",
    "print(\"Village 02: \",\"Sex >\",chance_homophily_sex2,\"Caste >\",chance_homophily_caste2,\"Religion >\",chance_homophily_religion2)"
   ]
  },
  {
   "cell_type": "markdown",
   "metadata": {},
   "source": [
    "### Exercise 5\n",
    "\n",
    "In this exercise, we will create a function that computes the observed homophily given a village and characteristic.\n",
    "\n",
    "#### Instructions \n",
    "- Complete the function `homophily()`, which takes a network `G`, a dictionary of node characteristics `chars`, and node IDs `IDs`. For each node pair, determine whether a tie exists between them, as well as whether they share a characteristic. The total count of these is `num_ties` and `num_same_ties`, respectively, and their ratio is the homophily of chars in `G`. Complete the function by choosing where to increment `num_same_ties` and `num_ties`."
   ]
  },
  {
   "cell_type": "code",
   "execution_count": 11,
   "metadata": {},
   "outputs": [],
   "source": [
    "def homophily(G, chars, IDs):\n",
    "    \"\"\"\n",
    "    Given a network G, a dict of characteristics chars for node IDs,\n",
    "    and dict of node IDs for each node in the network,\n",
    "    find the homophily of the network.\n",
    "    \"\"\"\n",
    "    num_same_ties = 0\n",
    "    num_ties = 0\n",
    "    for n1, n2 in G.edges():\n",
    "        if IDs[n1] in chars and IDs[n2] in chars:\n",
    "            if G.has_edge(n1, n2):\n",
    "                num_ties=num_ties+1\n",
    "                if chars[IDs[n1]] == chars[IDs[n2]]:\n",
    "                    num_same_ties+=1\n",
    "    return (num_same_ties / num_ties)    "
   ]
  },
  {
   "cell_type": "markdown",
   "metadata": {},
   "source": [
    "### Exercise 6\n",
    "\n",
    "In this exercise, we will obtain the personal IDs for Villages 1 and 2. These will be used in the next exercise to calculate homophily for these villages.\n",
    "\n",
    "#### Instructions \n",
    "- In this dataset, each individual has a personal ID, or PID, stored in `key_vilno_1.csv` and `key_vilno_2.csv` for villages 1 and 2, respectively. `data_filepath1` and `data_filepath2` contain the URLs to the datasets used in this exercise. Use `pd.read_csv` to read in and store `key_vilno_1.csv` and `key_vilno_2.csv` as `pid1` and `pid2` respectively. "
   ]
  },
  {
   "cell_type": "code",
   "execution_count": 19,
   "metadata": {},
   "outputs": [
    {
     "output_type": "stream",
     "name": "stdout",
     "text": [
      "Loading to CSV done.\n"
     ]
    }
   ],
   "source": [
    "data_filepath1 = \"asset-v1_HarvardX+PH526x+2T2019+type@asset+block@key_vilno_1.csv\"\n",
    "data_filepath2 = \"asset-v1_HarvardX+PH526x+2T2019+type@asset+block@key_vilno_2.csv\"\n",
    "\n",
    "pid1  = pd.read_csv(data_filepath1, low_memory=False, index_col=0)\n",
    "pid2  = pd.read_csv(data_filepath2, low_memory=False, index_col=0)\n",
    "\n",
    "print(\"Loading to CSV done.\")\n"
   ]
  },
  {
   "source": [
    "What is the personal ID of the person at index 100 in village 1?"
   ],
   "cell_type": "markdown",
   "metadata": {}
  },
  {
   "cell_type": "code",
   "execution_count": 20,
   "metadata": {},
   "outputs": [
    {
     "output_type": "stream",
     "name": "stdout",
     "text": [
      "0    102205\nName: 100, dtype: int64\n"
     ]
    }
   ],
   "source": [
    "print(pid1.iloc[100])"
   ]
  },
  {
   "cell_type": "markdown",
   "metadata": {},
   "source": [
    "### Exercise 7\n",
    "\n",
    "In this exercise, we will compute the homophily of several network characteristics for Villages 1 and 2 and compare them to homophily due to chance alone. The networks for these villages have been stored as networkx graph objects `G1` and `G2`.\n",
    "\n",
    "#### Instructions \n",
    "\n",
    "- Use your `homophily()` function to compute the observed homophily for sex, caste, and religion in Villages 1 and 2. Print all six values.\n",
    "- Use the `chance_homophily()` to compare these values to chance homophily. Are these values higher or lower than that expected by chance?"
   ]
  },
  {
   "cell_type": "code",
   "execution_count": 24,
   "metadata": {},
   "outputs": [
    {
     "output_type": "stream",
     "name": "stdout",
     "text": [
      "<class 'list'>\n"
     ]
    }
   ],
   "source": [
    "import networkx as nx\n",
    "A1 = np.array(pd.read_csv(\"adj_allVillageRelationships_vilno_1.csv\", index_col=0))\n",
    "A2 = np.array(pd.read_csv(\"adj_allVillageRelationships_vilno_2.csv\", index_col=0))\n",
    "G1 = nx.to_networkx_graph(A1)\n",
    "G2 = nx.to_networkx_graph(A2)\n",
    "\n",
    "pid1 = pd.read_csv(data_filepath1, dtype=int)['0'].to_dict()\n",
    "pid2 = pd.read_csv(data_filepath2, dtype=int)['0'].to_dict()"
   ]
  },
  {
   "cell_type": "code",
   "execution_count": 27,
   "metadata": {},
   "outputs": [
    {
     "output_type": "stream",
     "name": "stdout",
     "text": [
      "0.0020606417427141595 \n 0.0019672131147540984\n"
     ]
    }
   ],
   "source": [
    "h1=homophily(G1,pid1,(list(G1.nodes)))\n",
    "h2=homophily(G2,pid2,(list(G2.nodes)))\n",
    "\n",
    "print(h1,\"\\n\",h2)\n"
   ]
  },
  {
   "cell_type": "code",
   "execution_count": 28,
   "metadata": {},
   "outputs": [],
   "source": [
    "homophily_sex1=homophily(G1,sex1,list(pid1.values()))\n",
    "homophily_sex2=homophily(G2,sex2,list(pid2.values()))\n",
    "\n",
    "homophily_caste1=homophily(G1,caste1,list(pid1.values()))\n",
    "homophily_caste2=homophily(G2,caste2,list(pid2.values()))\n",
    "\n",
    "homophily_religion1=homophily(G1,religion1,list(pid1.values()))\n",
    "homophily_religion2=homophily(G2,religion2,list(pid2.values()))"
   ]
  },
  {
   "cell_type": "code",
   "execution_count": 33,
   "metadata": {},
   "outputs": [
    {
     "output_type": "stream",
     "name": "stdout",
     "text": [
      "Village 01::\nObserved:::::::Chance\nSex: 0.5138248847926268 ::::: 0.5027299861680701 ::>>:: True\nCaste: 0.8225806451612904 ::::: 0.6741488509791551 ::>>:: True\nReligion: 0.9907834101382489 ::::: 0.9804896988521925 ::>>:: True\n\n\n\nVillage 02::\nObserved:::::::Chance\nSex: 0.49622166246851385 ::::: 0.5005945303210464 ::>>:: False\nCaste: 0.8564231738035264 ::::: 0.425368244800893 ::>>:: True\nReligion: 1.0 ::::: 1.0 ::>>:: False\n"
     ]
    }
   ],
   "source": [
    "print(\"Village 01::\")\n",
    "print(\"Observed:::::::Chance\")\n",
    "print(\"Sex:\", homophily_sex1,\":::::\",chance_homophily_sex1,\"::>>::\",homophily_sex1>chance_homophily_sex1)\n",
    "print(\"Caste:\", homophily_caste1,\":::::\",chance_homophily_caste1,\"::>>::\",homophily_caste1>chance_homophily_caste1)\n",
    "print(\"Religion:\", homophily_religion1,\":::::\",chance_homophily_religion1,\"::>>::\",homophily_religion1>chance_homophily_religion1)\n",
    "\n",
    "print(\"\\n\\n\\nVillage 02::\")\n",
    "print(\"Observed:::::::Chance\")\n",
    "print(\"Sex:\", homophily_sex2,\":::::\",chance_homophily_sex2,\"::>>::\",homophily_sex2>chance_homophily_sex2)\n",
    "print(\"Caste:\", homophily_caste2,\":::::\",chance_homophily_caste2,\"::>>::\",homophily_caste2>chance_homophily_caste2)\n",
    "print(\"Religion:\", homophily_religion2,\":::::\",chance_homophily_religion2,\"::>>::\",homophily_religion2>chance_homophily_religion2)"
   ]
  },
  {
   "cell_type": "code",
   "execution_count": null,
   "metadata": {},
   "outputs": [],
   "source": []
  }
 ],
 "metadata": {
  "kernelspec": {
   "name": "python385jvsc74a57bd05d04c838d62abe92b3403c4401110917c05c57a4d727a149b38b15916ebf0092",
   "display_name": "Python 3.8.5 64-bit (conda)"
  },
  "language_info": {
   "codemirror_mode": {
    "name": "ipython",
    "version": 3
   },
   "file_extension": ".py",
   "mimetype": "text/x-python",
   "name": "python",
   "nbconvert_exporter": "python",
   "pygments_lexer": "ipython3",
   "version": "3.8.5-final"
  },
  "toc": {
   "base_numbering": 1,
   "nav_menu": {},
   "number_sections": false,
   "sideBar": true,
   "skip_h1_title": false,
   "title_cell": "Table of Contents",
   "title_sidebar": "Contents",
   "toc_cell": false,
   "toc_position": {},
   "toc_section_display": true,
   "toc_window_display": true
  }
 },
 "nbformat": 4,
 "nbformat_minor": 2
}