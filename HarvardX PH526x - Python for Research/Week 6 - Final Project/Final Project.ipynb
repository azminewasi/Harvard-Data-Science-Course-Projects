{
 "metadata": {
  "language_info": {
   "codemirror_mode": {
    "name": "ipython",
    "version": 3
   },
   "file_extension": ".py",
   "mimetype": "text/x-python",
   "name": "python",
   "nbconvert_exporter": "python",
   "pygments_lexer": "ipython3",
   "version": "3.8.5-final"
  },
  "orig_nbformat": 2,
  "kernelspec": {
   "name": "python385jvsc74a57bd05d04c838d62abe92b3403c4401110917c05c57a4d727a149b38b15916ebf0092",
   "display_name": "Python 3.8.5 64-bit (conda)"
  }
 },
 "nbformat": 4,
 "nbformat_minor": 2,
 "cells": [
  {
   "source": [
    "=====================================================================================================\n",
    "Final Project\n",
    "====================================================================================================="
   ],
   "cell_type": "markdown",
   "metadata": {}
  },
  {
   "source": [
    "Introduction\n",
    "\n",
    "In this final project, available to Verified learners only, we'll attempt to predict the type of physical activity (e.g., walking, climbing stairs) from tri-axial smartphone accelerometer data. Smartphone accelerometers are very precise, and different physical activities give rise to different patterns of acceleration."
   ],
   "cell_type": "markdown",
   "metadata": {}
  },
  {
   "source": [
    "Input Data\n",
    "\n",
    "\n",
    "The input data used for training in this project consists of two files. The first file, train_time_series.csv, contains the raw accelerometer data, which has been collected using the Beiwe research platform, and it has the following format:\n",
    "\n",
    "timestamp, UTC time, accuracy, x, y, z\n",
    "\n",
    "You can use the timestamp column as your time variable; you'll also need the last three columns, here labeled x, y, and z, which correspond to measurements of linear acceleration along each of the three orthogonal axes.\n",
    "\n",
    "The second file, train_labels.csv, contains the activity labels, and you'll be using these labels to train your model. Different activities have been numbered with integers. We use the following encoding: 1 = standing, 2 = walking, 3 = stairs down, 4 = stairs up. Because the accelerometers are sampled at high frequency, the labels in train_labels.csv are only provided for every 10th observation in train_time_series.csv."
   ],
   "cell_type": "markdown",
   "metadata": {}
  },
  {
   "source": [
    "Activity Classification\n",
    "\n",
    "\n",
    "Your goal is to classify different physical activities as accurately as possible. To test your code, you're also provided a file called test_time_series.csv, and at the end of the project you're asked to provide the activity labels predicted by your code for this test data set. Only the course staff have the corresponding true labels for the test data, and the accuracy of your code will be determined as the percentage of correct classifications. Note that in both cases, for training and testing, the input file consists of a single (3-dimensional) time series. To test the accuracy of your code, you'll be asked to upload your predictions as a CSV file. This file called test_labels.csv is provided to you, but it only contains the time stamps needed for prediction; you'll need to augment this file by adding the corresponding class predictions (1,2,3,4)."
   ],
   "cell_type": "markdown",
   "metadata": {}
  },
  {
   "source": [
    "Code Run Time\n",
    "\n",
    "\n",
    "In addition to providing the predictions, you're also asked to time the running time of your code, starting at the moment when you load in the test data set and ending at the moment you're done computing your predictions. You'll be asked to enter this running time, and the goal is to see how fast your code runs compared to the code of others. Because computing speeds vary for several reasons, including hardware and implementation of the code, these numbers aren't directly comparable, and for this reason your grading will not be affected by them. However, it may still be interesting to you to see how long the code of other participants takes to solve the problem."
   ],
   "cell_type": "markdown",
   "metadata": {}
  },
  {
   "source": [
    "Project Submission\n",
    "\n",
    "\n",
    "You're expected to implement your solution using a Jupyter notebook. Once you're done, you're asked to upload the notebook, which will be peer reviewed by other course participants. This review will impact your final course grade, so you should write your code as clearly code as possible, include comments, and use meaningful variable names.\n",
    "\n",
    "You can approach this problem any way you'd like. It may be beneficial to search the web for possible solutions, or you may try to solve this problem from scratch. We recommend that you build your code in stages, encapsulating different parts (tasks) of the problem into functions. There are many ways to solve this problem. Good luck!"
   ],
   "cell_type": "markdown",
   "metadata": {}
  },
  {
   "source": [
    "=====================================================================================================\n",
    "Working from here \n",
    "====================================================================================================="
   ],
   "cell_type": "markdown",
   "metadata": {}
  },
  {
   "cell_type": "code",
   "execution_count": 3,
   "metadata": {},
   "outputs": [],
   "source": [
    "#importing modules\n",
    "\n",
    "import numpy as np \n",
    "import pandas as pd \n",
    "import matplotlib.pyplot as plt\n"
   ]
  },
  {
   "cell_type": "code",
   "execution_count": 5,
   "metadata": {},
   "outputs": [],
   "source": [
    "#Importing files to Pandas Dataframe\n",
    "\n",
    "df_labels=pd.read_csv(\"train_labels.csv\")\n",
    "df_ts=pd.read_csv(\"train_time_series.csv\")"
   ]
  },
  {
   "cell_type": "code",
   "execution_count": 6,
   "metadata": {},
   "outputs": [
    {
     "output_type": "stream",
     "name": "stdout",
     "text": [
      "   Unnamed: 0      timestamp                 UTC time  label\n0       20589  1565109931087  2019-08-06T16:45:31.087      1\n1       20599  1565109932090  2019-08-06T16:45:32.090      1\n2       20609  1565109933092  2019-08-06T16:45:33.092      1\n3       20619  1565109934094  2019-08-06T16:45:34.094      1\n4       20629  1565109935097  2019-08-06T16:45:35.097      1\n<class 'pandas.core.frame.DataFrame'>\nRangeIndex: 375 entries, 0 to 374\nData columns (total 4 columns):\n #   Column      Non-Null Count  Dtype \n---  ------      --------------  ----- \n 0   Unnamed: 0  375 non-null    int64 \n 1   timestamp   375 non-null    int64 \n 2   UTC time    375 non-null    object\n 3   label       375 non-null    int64 \ndtypes: int64(3), object(1)\nmemory usage: 11.8+ KB\nNone\n"
     ]
    }
   ],
   "source": [
    "#Inspecting train_labels.csv\n",
    "print(df_labels.head())\n",
    "print(df_labels.info())"
   ]
  },
  {
   "cell_type": "code",
   "execution_count": 7,
   "metadata": {},
   "outputs": [
    {
     "output_type": "stream",
     "name": "stdout",
     "text": [
      "   Unnamed: 0      timestamp                 UTC time accuracy         x  \\\n0       20586  1565109930787  2019-08-06T16:45:30.787  unknown -0.006485   \n1       20587  1565109930887  2019-08-06T16:45:30.887  unknown -0.066467   \n2       20588  1565109930987  2019-08-06T16:45:30.987  unknown -0.043488   \n3       20589  1565109931087  2019-08-06T16:45:31.087  unknown -0.053802   \n4       20590  1565109931188  2019-08-06T16:45:31.188  unknown -0.054031   \n\n          y         z  \n0 -0.934860 -0.069046  \n1 -1.015442  0.089554  \n2 -1.021255  0.178467  \n3 -0.987701  0.068985  \n4 -1.003616  0.126450  \n<class 'pandas.core.frame.DataFrame'>\nRangeIndex: 3744 entries, 0 to 3743\nData columns (total 7 columns):\n #   Column      Non-Null Count  Dtype  \n---  ------      --------------  -----  \n 0   Unnamed: 0  3744 non-null   int64  \n 1   timestamp   3744 non-null   int64  \n 2   UTC time    3744 non-null   object \n 3   accuracy    3744 non-null   object \n 4   x           3744 non-null   float64\n 5   y           3744 non-null   float64\n 6   z           3744 non-null   float64\ndtypes: float64(3), int64(2), object(2)\nmemory usage: 204.9+ KB\nNone\n"
     ]
    }
   ],
   "source": [
    "#Inspecting train_time_series.csv\"\n",
    "print(df_ts.head())\n",
    "print(df_ts.info())"
   ]
  },
  {
   "cell_type": "code",
   "execution_count": null,
   "metadata": {},
   "outputs": [],
   "source": [
    "\n"
   ]
  }
 ]
}